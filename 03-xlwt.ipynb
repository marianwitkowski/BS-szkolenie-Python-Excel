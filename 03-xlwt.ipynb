{
 "cells": [
  {
   "cell_type": "code",
   "execution_count": 1,
   "id": "75e7e8a5",
   "metadata": {},
   "outputs": [
    {
     "name": "stdout",
     "output_type": "stream",
     "text": [
      "Requirement already satisfied: xlwt in /Users/marian/opt/anaconda3/lib/python3.9/site-packages (1.3.0)\r\n"
     ]
    }
   ],
   "source": [
    "!pip install xlwt"
   ]
  },
  {
   "cell_type": "code",
   "execution_count": 2,
   "id": "fecd1fab",
   "metadata": {},
   "outputs": [],
   "source": [
    "import xlwt"
   ]
  },
  {
   "cell_type": "code",
   "execution_count": 5,
   "id": "978afdce",
   "metadata": {},
   "outputs": [],
   "source": [
    "# tworzenie nowego skoroszytu\n",
    "workbook = xlwt.Workbook()\n",
    "\n",
    "# dodanie arkusza do skoroszytu\n",
    "sheet = workbook.add_sheet(\"Arkusz1\", cell_overwrite_ok=True)"
   ]
  },
  {
   "cell_type": "code",
   "execution_count": 6,
   "id": "4458be27",
   "metadata": {},
   "outputs": [],
   "source": [
    "# wprowadzenie danych do arkusza\n",
    "sheet.write(0, 0, 'A1')\n",
    "sheet.write(0, 1, 'B1')\n",
    "sheet.write(1, 0, 'A2')\n",
    "sheet.write(1, 1, 'B2')"
   ]
  },
  {
   "cell_type": "code",
   "execution_count": 13,
   "id": "b0525b99",
   "metadata": {},
   "outputs": [],
   "source": [
    "# stylowanie komórki\n",
    "style = xlwt.XFStyle()\n",
    "\n",
    "# zmiana fontu\n",
    "font = xlwt.Font()\n",
    "font.name = \"Arial\"\n",
    "font.bold = True\n",
    "font.height = 240 # twips = 1/20 pkt\n",
    "style.font = font\n",
    "\n",
    "# zmiana koloru tła komórki\n",
    "pattern = xlwt.Pattern()\n",
    "pattern.pattern = xlwt.Pattern.SOLID_PATTERN\n",
    "pattern.pattern_fore_colour = xlwt.Style.colour_map['yellow']\n",
    "style.pattern = pattern\n",
    "\n",
    "# obramowanie\n",
    "borders = xlwt.Borders()\n",
    "borders.top = xlwt.Borders.THIN\n",
    "borders.bottom = xlwt.Borders.THIN\n",
    "borders.left = xlwt.Borders.THIN\n",
    "borders.right = xlwt.Borders.THIN\n",
    "borders.bottom_colour = xlwt.Style.colour_map['red']\n",
    "style.borders = borders\n",
    "\n",
    "sheet.write(2, 0, \"Przykład formatowania\", style)"
   ]
  },
  {
   "cell_type": "code",
   "execution_count": 14,
   "id": "7c822667",
   "metadata": {},
   "outputs": [],
   "source": [
    "# zapis danych do pliku XLS\n",
    "workbook.save(\"przyklad.xls\")"
   ]
  },
  {
   "cell_type": "code",
   "execution_count": null,
   "id": "5ee90b3c",
   "metadata": {},
   "outputs": [],
   "source": []
  }
 ],
 "metadata": {
  "kernelspec": {
   "display_name": "Python 3 (ipykernel)",
   "language": "python",
   "name": "python3"
  },
  "language_info": {
   "codemirror_mode": {
    "name": "ipython",
    "version": 3
   },
   "file_extension": ".py",
   "mimetype": "text/x-python",
   "name": "python",
   "nbconvert_exporter": "python",
   "pygments_lexer": "ipython3",
   "version": "3.9.12"
  }
 },
 "nbformat": 4,
 "nbformat_minor": 5
}
