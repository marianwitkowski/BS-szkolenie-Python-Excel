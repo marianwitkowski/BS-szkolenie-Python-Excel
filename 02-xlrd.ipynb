{
 "cells": [
  {
   "cell_type": "code",
   "execution_count": 1,
   "id": "8cdd74b7",
   "metadata": {},
   "outputs": [
    {
     "name": "stdout",
     "output_type": "stream",
     "text": [
      "Requirement already satisfied: xlrd in /Users/marian/opt/anaconda3/lib/python3.9/site-packages (2.0.1)\r\n"
     ]
    }
   ],
   "source": [
    "!pip install xlrd"
   ]
  },
  {
   "cell_type": "code",
   "execution_count": 2,
   "id": "2593505a",
   "metadata": {},
   "outputs": [],
   "source": [
    "import xlrd"
   ]
  },
  {
   "cell_type": "code",
   "execution_count": 5,
   "id": "24dcfc13",
   "metadata": {},
   "outputs": [
    {
     "name": "stdout",
     "output_type": "stream",
     "text": [
      "Id| FirstName| LastName| DOB| time| \n",
      "1.0| Jan| Kowalski| 25602.0| 0.5242592592592593| \n",
      "| | | | | \n",
      "| | | | | \n",
      "| TEST| | | TEST2| \n"
     ]
    }
   ],
   "source": [
    "workbook = xlrd.open_workbook(\"Students.xls\")\n",
    "\n",
    "worksheet = workbook.sheet_by_index(0)\n",
    "\n",
    "rows, cols = worksheet.nrows, worksheet.ncols\n",
    "for i in range(rows):\n",
    "    for j in range(cols):\n",
    "        print( f\"{worksheet.cell_value(i,j)}| \", end=\"\")\n",
    "    print()"
   ]
  },
  {
   "cell_type": "code",
   "execution_count": 9,
   "id": "d6105b73",
   "metadata": {},
   "outputs": [
    {
     "name": "stdout",
     "output_type": "stream",
     "text": [
      "1970-02-03 00:00:00\n",
      "(1970, 2, 3, 0, 0, 0)\n"
     ]
    }
   ],
   "source": [
    "cell_value = worksheet.cell_value(1,3)\n",
    "cell_type = worksheet.cell_type(1,3)\n",
    "#cell_value, cell_type\n",
    "\n",
    "if cell_type == xlrd.XL_CELL_DATE:\n",
    "    date_object = xlrd.xldate_as_datetime(cell_value, workbook.datemode)\n",
    "    print(date_object)\n",
    "    date_tuple = xlrd.xldate_as_tuple(cell_value, workbook.datemode)\n",
    "    print(date_tuple)"
   ]
  },
  {
   "cell_type": "code",
   "execution_count": 10,
   "id": "9c018a59",
   "metadata": {},
   "outputs": [
    {
     "name": "stdout",
     "output_type": "stream",
     "text": [
      "1899-12-31 12:34:56\n",
      "(0, 0, 0, 12, 34, 56)\n"
     ]
    }
   ],
   "source": [
    "cell_value = worksheet.cell_value(1,4)\n",
    "cell_type = worksheet.cell_type(1,4)\n",
    "#cell_value, cell_type\n",
    "\n",
    "if cell_type == xlrd.XL_CELL_DATE:\n",
    "    date_object = xlrd.xldate_as_datetime(cell_value, workbook.datemode)\n",
    "    print(date_object)\n",
    "    date_tuple = xlrd.xldate_as_tuple(cell_value, workbook.datemode)\n",
    "    print(date_tuple)"
   ]
  },
  {
   "cell_type": "code",
   "execution_count": null,
   "id": "cdcabdce",
   "metadata": {},
   "outputs": [],
   "source": []
  }
 ],
 "metadata": {
  "kernelspec": {
   "display_name": "Python 3 (ipykernel)",
   "language": "python",
   "name": "python3"
  },
  "language_info": {
   "codemirror_mode": {
    "name": "ipython",
    "version": 3
   },
   "file_extension": ".py",
   "mimetype": "text/x-python",
   "name": "python",
   "nbconvert_exporter": "python",
   "pygments_lexer": "ipython3",
   "version": "3.9.12"
  }
 },
 "nbformat": 4,
 "nbformat_minor": 5
}
